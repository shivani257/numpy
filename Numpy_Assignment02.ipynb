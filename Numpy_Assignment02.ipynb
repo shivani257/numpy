{
  "nbformat": 4,
  "nbformat_minor": 0,
  "metadata": {
    "colab": {
      "provenance": [],
      "authorship_tag": "ABX9TyOvDYX+8x+J2XSZO6/9ThbQ",
      "include_colab_link": true
    },
    "kernelspec": {
      "name": "python3",
      "display_name": "Python 3"
    },
    "language_info": {
      "name": "python"
    }
  },
  "cells": [
    {
      "cell_type": "markdown",
      "metadata": {
        "id": "view-in-github",
        "colab_type": "text"
      },
      "source": [
        "<a href=\"https://colab.research.google.com/github/shivani257/numpy/blob/main/Numpy_Assignment02.ipynb\" target=\"_parent\"><img src=\"https://colab.research.google.com/assets/colab-badge.svg\" alt=\"Open In Colab\"/></a>"
      ]
    },
    {
      "cell_type": "code",
      "execution_count": 1,
      "metadata": {
        "id": "UTg93YoUE8SC"
      },
      "outputs": [],
      "source": [
        "import numpy as np"
      ]
    },
    {
      "cell_type": "code",
      "source": [
        "a = np.random.randn(4,5)\n",
        "a"
      ],
      "metadata": {
        "colab": {
          "base_uri": "https://localhost:8080/"
        },
        "id": "5HscjJRGKblH",
        "outputId": "d29e0bb7-229a-45a5-8584-2aa6fa79ee8d"
      },
      "execution_count": 5,
      "outputs": [
        {
          "output_type": "execute_result",
          "data": {
            "text/plain": [
              "array([[ 0.31056217,  1.51948661, -0.4690507 , -0.17417057,  0.33795976],\n",
              "       [ 0.85812998, -0.00735745,  0.24088297,  1.00235656,  0.01665591],\n",
              "       [-0.27329753,  0.26966697, -0.37573303,  1.25179675,  0.7016582 ],\n",
              "       [ 0.47339641,  0.4259929 ,  0.75288022, -1.24146997,  1.58865245]])"
            ]
          },
          "metadata": {},
          "execution_count": 5
        }
      ]
    },
    {
      "cell_type": "code",
      "source": [
        "#1st and 3rd row\n",
        "a[0::2]"
      ],
      "metadata": {
        "colab": {
          "base_uri": "https://localhost:8080/"
        },
        "id": "HM-KWhfOKwu_",
        "outputId": "bcb52f7a-3ce3-4385-f177-fd74f7d6ab92"
      },
      "execution_count": 8,
      "outputs": [
        {
          "output_type": "execute_result",
          "data": {
            "text/plain": [
              "array([[ 0.31056217,  1.51948661, -0.4690507 , -0.17417057,  0.33795976],\n",
              "       [-0.27329753,  0.26966697, -0.37573303,  1.25179675,  0.7016582 ]])"
            ]
          },
          "metadata": {},
          "execution_count": 8
        }
      ]
    },
    {
      "cell_type": "code",
      "source": [
        "# 2nd and 4th row\n",
        "a[1::2]"
      ],
      "metadata": {
        "colab": {
          "base_uri": "https://localhost:8080/"
        },
        "id": "CxdJxA7KK60O",
        "outputId": "49b0ffee-21d5-4737-83bd-b77ca923747b"
      },
      "execution_count": 9,
      "outputs": [
        {
          "output_type": "execute_result",
          "data": {
            "text/plain": [
              "array([[ 0.85812998, -0.00735745,  0.24088297,  1.00235656,  0.01665591],\n",
              "       [ 0.47339641,  0.4259929 ,  0.75288022, -1.24146997,  1.58865245]])"
            ]
          },
          "metadata": {},
          "execution_count": 9
        }
      ]
    },
    {
      "cell_type": "markdown",
      "source": [
        "# Assignment\n",
        "\n",
        "# Access last 2 rows\n"
      ],
      "metadata": {
        "id": "fKQ6zqyELih5"
      }
    },
    {
      "cell_type": "code",
      "source": [
        "a"
      ],
      "metadata": {
        "colab": {
          "base_uri": "https://localhost:8080/"
        },
        "id": "p0YOZM6cLpIa",
        "outputId": "76fd7683-ca5a-4233-f2f3-1e6031b1699f"
      },
      "execution_count": 10,
      "outputs": [
        {
          "output_type": "execute_result",
          "data": {
            "text/plain": [
              "array([[ 0.31056217,  1.51948661, -0.4690507 , -0.17417057,  0.33795976],\n",
              "       [ 0.85812998, -0.00735745,  0.24088297,  1.00235656,  0.01665591],\n",
              "       [-0.27329753,  0.26966697, -0.37573303,  1.25179675,  0.7016582 ],\n",
              "       [ 0.47339641,  0.4259929 ,  0.75288022, -1.24146997,  1.58865245]])"
            ]
          },
          "metadata": {},
          "execution_count": 10
        }
      ]
    },
    {
      "cell_type": "code",
      "source": [
        "a[-2:]"
      ],
      "metadata": {
        "colab": {
          "base_uri": "https://localhost:8080/"
        },
        "id": "tqDOLz4hL9-8",
        "outputId": "6469829f-b4b8-47ce-eacb-72d2db9ff4c2"
      },
      "execution_count": 13,
      "outputs": [
        {
          "output_type": "execute_result",
          "data": {
            "text/plain": [
              "array([[-0.27329753,  0.26966697, -0.37573303,  1.25179675,  0.7016582 ],\n",
              "       [ 0.47339641,  0.4259929 ,  0.75288022, -1.24146997,  1.58865245]])"
            ]
          },
          "metadata": {},
          "execution_count": 13
        }
      ]
    },
    {
      "cell_type": "markdown",
      "source": [
        "# Access middle 2 rows"
      ],
      "metadata": {
        "id": "plHGoXwtMX_5"
      }
    },
    {
      "cell_type": "code",
      "source": [
        "a[1:3]"
      ],
      "metadata": {
        "colab": {
          "base_uri": "https://localhost:8080/"
        },
        "id": "sc3WcmomMfNy",
        "outputId": "0b31cf71-4bed-4a6e-b57d-751c2e7bdcc0"
      },
      "execution_count": 14,
      "outputs": [
        {
          "output_type": "execute_result",
          "data": {
            "text/plain": [
              "array([[ 0.85812998, -0.00735745,  0.24088297,  1.00235656,  0.01665591],\n",
              "       [-0.27329753,  0.26966697, -0.37573303,  1.25179675,  0.7016582 ]])"
            ]
          },
          "metadata": {},
          "execution_count": 14
        }
      ]
    },
    {
      "cell_type": "code",
      "source": [
        "a[-3:-1]"
      ],
      "metadata": {
        "colab": {
          "base_uri": "https://localhost:8080/"
        },
        "id": "0zlRblUJMqYL",
        "outputId": "6960523e-185f-439d-e24f-0579c0817805"
      },
      "execution_count": 18,
      "outputs": [
        {
          "output_type": "execute_result",
          "data": {
            "text/plain": [
              "array([[ 0.85812998, -0.00735745,  0.24088297,  1.00235656,  0.01665591],\n",
              "       [-0.27329753,  0.26966697, -0.37573303,  1.25179675,  0.7016582 ]])"
            ]
          },
          "metadata": {},
          "execution_count": 18
        }
      ]
    },
    {
      "cell_type": "markdown",
      "source": [
        "# Access 1st and last row"
      ],
      "metadata": {
        "id": "i1Sdi2aGM25z"
      }
    },
    {
      "cell_type": "code",
      "source": [
        "a"
      ],
      "metadata": {
        "colab": {
          "base_uri": "https://localhost:8080/"
        },
        "id": "WRrDxDfVNC_m",
        "outputId": "f1fff0c7-d3e2-49d5-e9e4-53230b1ce686"
      },
      "execution_count": 20,
      "outputs": [
        {
          "output_type": "execute_result",
          "data": {
            "text/plain": [
              "array([[ 0.31056217,  1.51948661, -0.4690507 , -0.17417057,  0.33795976],\n",
              "       [ 0.85812998, -0.00735745,  0.24088297,  1.00235656,  0.01665591],\n",
              "       [-0.27329753,  0.26966697, -0.37573303,  1.25179675,  0.7016582 ],\n",
              "       [ 0.47339641,  0.4259929 ,  0.75288022, -1.24146997,  1.58865245]])"
            ]
          },
          "metadata": {},
          "execution_count": 20
        }
      ]
    },
    {
      "cell_type": "code",
      "source": [
        "a[::3]"
      ],
      "metadata": {
        "colab": {
          "base_uri": "https://localhost:8080/"
        },
        "id": "unwqdWojNI7B",
        "outputId": "e95c283a-f968-41a0-e3dd-8e9b47a3e3c7"
      },
      "execution_count": 24,
      "outputs": [
        {
          "output_type": "execute_result",
          "data": {
            "text/plain": [
              "array([[ 0.31056217,  1.51948661, -0.4690507 , -0.17417057,  0.33795976],\n",
              "       [ 0.47339641,  0.4259929 ,  0.75288022, -1.24146997,  1.58865245]])"
            ]
          },
          "metadata": {},
          "execution_count": 24
        }
      ]
    },
    {
      "cell_type": "markdown",
      "source": [
        "# Access 2nd and last row"
      ],
      "metadata": {
        "id": "JqagMCYBNqRj"
      }
    },
    {
      "cell_type": "code",
      "source": [
        "a[1::2]"
      ],
      "metadata": {
        "colab": {
          "base_uri": "https://localhost:8080/"
        },
        "id": "sOTZmQaCNwZ6",
        "outputId": "b8c41647-080b-4f93-f982-0336345c7575"
      },
      "execution_count": 26,
      "outputs": [
        {
          "output_type": "execute_result",
          "data": {
            "text/plain": [
              "array([[ 0.85812998, -0.00735745,  0.24088297,  1.00235656,  0.01665591],\n",
              "       [ 0.47339641,  0.4259929 ,  0.75288022, -1.24146997,  1.58865245]])"
            ]
          },
          "metadata": {},
          "execution_count": 26
        }
      ]
    },
    {
      "cell_type": "code",
      "source": [
        "a[-3::2]"
      ],
      "metadata": {
        "colab": {
          "base_uri": "https://localhost:8080/"
        },
        "id": "gBdeZSjkN6io",
        "outputId": "6279f5e2-0aef-4821-9d3b-a968cf4829a0"
      },
      "execution_count": 27,
      "outputs": [
        {
          "output_type": "execute_result",
          "data": {
            "text/plain": [
              "array([[ 0.85812998, -0.00735745,  0.24088297,  1.00235656,  0.01665591],\n",
              "       [ 0.47339641,  0.4259929 ,  0.75288022, -1.24146997,  1.58865245]])"
            ]
          },
          "metadata": {},
          "execution_count": 27
        }
      ]
    },
    {
      "cell_type": "markdown",
      "source": [
        "# Access last 3 rows"
      ],
      "metadata": {
        "id": "Zm0_pKlPOE-q"
      }
    },
    {
      "cell_type": "code",
      "source": [
        "a"
      ],
      "metadata": {
        "colab": {
          "base_uri": "https://localhost:8080/"
        },
        "id": "owksLI6pOKr5",
        "outputId": "2f3ab342-9fd4-46ef-9ca7-9f4b94425ef1"
      },
      "execution_count": 28,
      "outputs": [
        {
          "output_type": "execute_result",
          "data": {
            "text/plain": [
              "array([[ 0.31056217,  1.51948661, -0.4690507 , -0.17417057,  0.33795976],\n",
              "       [ 0.85812998, -0.00735745,  0.24088297,  1.00235656,  0.01665591],\n",
              "       [-0.27329753,  0.26966697, -0.37573303,  1.25179675,  0.7016582 ],\n",
              "       [ 0.47339641,  0.4259929 ,  0.75288022, -1.24146997,  1.58865245]])"
            ]
          },
          "metadata": {},
          "execution_count": 28
        }
      ]
    },
    {
      "cell_type": "code",
      "source": [
        "a[-3:]"
      ],
      "metadata": {
        "colab": {
          "base_uri": "https://localhost:8080/"
        },
        "id": "vmmhBgLLOPWV",
        "outputId": "41e678ff-c607-4eef-8afa-01a738508638"
      },
      "execution_count": 30,
      "outputs": [
        {
          "output_type": "execute_result",
          "data": {
            "text/plain": [
              "array([[ 0.85812998, -0.00735745,  0.24088297,  1.00235656,  0.01665591],\n",
              "       [-0.27329753,  0.26966697, -0.37573303,  1.25179675,  0.7016582 ],\n",
              "       [ 0.47339641,  0.4259929 ,  0.75288022, -1.24146997,  1.58865245]])"
            ]
          },
          "metadata": {},
          "execution_count": 30
        }
      ]
    },
    {
      "cell_type": "code",
      "source": [
        "a[1:]"
      ],
      "metadata": {
        "colab": {
          "base_uri": "https://localhost:8080/"
        },
        "id": "2dbBcdzDOSz6",
        "outputId": "560d2b21-51fd-4a1b-e5a0-7fd7f8c2d987"
      },
      "execution_count": 32,
      "outputs": [
        {
          "output_type": "execute_result",
          "data": {
            "text/plain": [
              "array([[ 0.85812998, -0.00735745,  0.24088297,  1.00235656,  0.01665591],\n",
              "       [-0.27329753,  0.26966697, -0.37573303,  1.25179675,  0.7016582 ],\n",
              "       [ 0.47339641,  0.4259929 ,  0.75288022, -1.24146997,  1.58865245]])"
            ]
          },
          "metadata": {},
          "execution_count": 32
        }
      ]
    },
    {
      "cell_type": "markdown",
      "source": [
        "# **Assignment**\n",
        "\n",
        "# Access corner elements"
      ],
      "metadata": {
        "id": "MLISKZfsQkIO"
      }
    },
    {
      "cell_type": "code",
      "source": [
        "a = np.random.randn(4,4)\n",
        "a"
      ],
      "metadata": {
        "colab": {
          "base_uri": "https://localhost:8080/"
        },
        "id": "FFttpH9VQnpx",
        "outputId": "7e7bf1af-94b6-42a5-9f92-106291b2b33b"
      },
      "execution_count": 48,
      "outputs": [
        {
          "output_type": "execute_result",
          "data": {
            "text/plain": [
              "array([[ 0.0843226 , -1.19498467, -0.30364749, -0.72296333],\n",
              "       [ 1.60157601, -0.04590945,  2.22176268, -1.42038673],\n",
              "       [-1.49866146,  0.31886461,  1.7897804 , -0.14765192],\n",
              "       [ 1.41409456, -0.66926148,  0.17309492,  0.3407506 ]])"
            ]
          },
          "metadata": {},
          "execution_count": 48
        }
      ]
    },
    {
      "cell_type": "code",
      "source": [
        "a[::3,::3]"
      ],
      "metadata": {
        "colab": {
          "base_uri": "https://localhost:8080/"
        },
        "id": "PgiWvxZfQu77",
        "outputId": "647cb30d-623f-43c8-a81f-5c0bd1f4c139"
      },
      "execution_count": 52,
      "outputs": [
        {
          "output_type": "execute_result",
          "data": {
            "text/plain": [
              "array([[ 0.0843226 , -0.72296333],\n",
              "       [ 1.41409456,  0.3407506 ]])"
            ]
          },
          "metadata": {},
          "execution_count": 52
        }
      ]
    },
    {
      "cell_type": "markdown",
      "source": [
        "# Access daigonal elements"
      ],
      "metadata": {
        "id": "drXDm0_LRMF3"
      }
    },
    {
      "cell_type": "code",
      "source": [
        "np.diagonal(a)"
      ],
      "metadata": {
        "colab": {
          "base_uri": "https://localhost:8080/"
        },
        "id": "yLf-bu_bRQ13",
        "outputId": "8f0941a3-12d7-44e1-e3c4-cb147fb92b5b"
      },
      "execution_count": 53,
      "outputs": [
        {
          "output_type": "execute_result",
          "data": {
            "text/plain": [
              "array([ 0.0843226 , -0.04590945,  1.7897804 ,  0.3407506 ])"
            ]
          },
          "metadata": {},
          "execution_count": 53
        }
      ]
    },
    {
      "cell_type": "markdown",
      "source": [
        "# Access middle 2 columns and all rows"
      ],
      "metadata": {
        "id": "jce-_PzdRfi1"
      }
    },
    {
      "cell_type": "code",
      "source": [
        "a[:,1:3]"
      ],
      "metadata": {
        "colab": {
          "base_uri": "https://localhost:8080/"
        },
        "id": "X58GC4IKRloJ",
        "outputId": "c5c0b1b5-98c1-4eea-bee0-4dcb1238fc1d"
      },
      "execution_count": 54,
      "outputs": [
        {
          "output_type": "execute_result",
          "data": {
            "text/plain": [
              "array([[-1.19498467, -0.30364749],\n",
              "       [-0.04590945,  2.22176268],\n",
              "       [ 0.31886461,  1.7897804 ],\n",
              "       [-0.66926148,  0.17309492]])"
            ]
          },
          "metadata": {},
          "execution_count": 54
        }
      ]
    },
    {
      "cell_type": "markdown",
      "source": [
        "# Access last 2 rows and its first 2 values from each row"
      ],
      "metadata": {
        "id": "cAMHJqNpSmk3"
      }
    },
    {
      "cell_type": "code",
      "source": [
        "a"
      ],
      "metadata": {
        "colab": {
          "base_uri": "https://localhost:8080/"
        },
        "id": "6q1PHnsNStr_",
        "outputId": "b83f0963-63b6-4ed4-ce88-c34d53772d5c"
      },
      "execution_count": 55,
      "outputs": [
        {
          "output_type": "execute_result",
          "data": {
            "text/plain": [
              "array([[ 0.0843226 , -1.19498467, -0.30364749, -0.72296333],\n",
              "       [ 1.60157601, -0.04590945,  2.22176268, -1.42038673],\n",
              "       [-1.49866146,  0.31886461,  1.7897804 , -0.14765192],\n",
              "       [ 1.41409456, -0.66926148,  0.17309492,  0.3407506 ]])"
            ]
          },
          "metadata": {},
          "execution_count": 55
        }
      ]
    },
    {
      "cell_type": "code",
      "source": [
        "a[-2:,0:1]"
      ],
      "metadata": {
        "colab": {
          "base_uri": "https://localhost:8080/"
        },
        "id": "VXDRw95ES064",
        "outputId": "9768cfcd-b5ae-4ff5-ba6c-f1b665c3aedd"
      },
      "execution_count": 60,
      "outputs": [
        {
          "output_type": "execute_result",
          "data": {
            "text/plain": [
              "array([[-1.49866146],\n",
              "       [ 1.41409456]])"
            ]
          },
          "metadata": {},
          "execution_count": 60
        }
      ]
    },
    {
      "cell_type": "markdown",
      "source": [
        "# Reverse rows and column as well"
      ],
      "metadata": {
        "id": "FSBXbDi3S88S"
      }
    },
    {
      "cell_type": "code",
      "source": [
        "a[::-1,::-1]"
      ],
      "metadata": {
        "colab": {
          "base_uri": "https://localhost:8080/"
        },
        "id": "1YgqKiOmTC9L",
        "outputId": "72d31183-2204-4bb2-ca0f-e99891f0d83b"
      },
      "execution_count": 58,
      "outputs": [
        {
          "output_type": "execute_result",
          "data": {
            "text/plain": [
              "array([[ 0.3407506 ,  0.17309492, -0.66926148,  1.41409456],\n",
              "       [-0.14765192,  1.7897804 ,  0.31886461, -1.49866146],\n",
              "       [-1.42038673,  2.22176268, -0.04590945,  1.60157601],\n",
              "       [-0.72296333, -0.30364749, -1.19498467,  0.0843226 ]])"
            ]
          },
          "metadata": {},
          "execution_count": 58
        }
      ]
    }
  ]
}