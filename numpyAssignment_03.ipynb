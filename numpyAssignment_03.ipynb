{
  "nbformat": 4,
  "nbformat_minor": 0,
  "metadata": {
    "colab": {
      "provenance": [],
      "authorship_tag": "ABX9TyN5PVqs+epYgmgwKQPzcSae",
      "include_colab_link": true
    },
    "kernelspec": {
      "name": "python3",
      "display_name": "Python 3"
    },
    "language_info": {
      "name": "python"
    }
  },
  "cells": [
    {
      "cell_type": "markdown",
      "metadata": {
        "id": "view-in-github",
        "colab_type": "text"
      },
      "source": [
        "<a href=\"https://colab.research.google.com/github/shivani257/numpy/blob/main/numpyAssignment_03.ipynb\" target=\"_parent\"><img src=\"https://colab.research.google.com/assets/colab-badge.svg\" alt=\"Open In Colab\"/></a>"
      ]
    },
    {
      "cell_type": "code",
      "execution_count": 1,
      "metadata": {
        "id": "nFMhjhmE8z0O"
      },
      "outputs": [],
      "source": [
        "import numpy as np"
      ]
    },
    {
      "cell_type": "code",
      "source": [
        "a = np.random.random((4,4))\n",
        "a"
      ],
      "metadata": {
        "colab": {
          "base_uri": "https://localhost:8080/"
        },
        "id": "8DaimjTR828h",
        "outputId": "0873bdb1-8590-4f0d-c874-5ef59ad4cc71"
      },
      "execution_count": 4,
      "outputs": [
        {
          "output_type": "execute_result",
          "data": {
            "text/plain": [
              "array([[0.04881579, 0.81134611, 0.15325413, 0.93854141],\n",
              "       [0.9137405 , 0.5561551 , 0.14023319, 0.02735921],\n",
              "       [0.38657536, 0.29092395, 0.69271128, 0.11807119],\n",
              "       [0.73235014, 0.14158138, 0.89096885, 0.6969264 ]])"
            ]
          },
          "metadata": {},
          "execution_count": 4
        }
      ]
    },
    {
      "cell_type": "code",
      "source": [
        "# add -1 in each column\n",
        "#add -1 row\n",
        "np.append(a,[[-1,-1,-1,-1]],axis=0)"
      ],
      "metadata": {
        "colab": {
          "base_uri": "https://localhost:8080/"
        },
        "id": "zW7_5ZHe89vt",
        "outputId": "222ee8a8-ea2f-4de9-a6c7-d287f408df93"
      },
      "execution_count": 10,
      "outputs": [
        {
          "output_type": "execute_result",
          "data": {
            "text/plain": [
              "array([[ 0.04881579,  0.81134611,  0.15325413,  0.93854141],\n",
              "       [ 0.9137405 ,  0.5561551 ,  0.14023319,  0.02735921],\n",
              "       [ 0.38657536,  0.29092395,  0.69271128,  0.11807119],\n",
              "       [ 0.73235014,  0.14158138,  0.89096885,  0.6969264 ],\n",
              "       [-1.        , -1.        , -1.        , -1.        ]])"
            ]
          },
          "metadata": {},
          "execution_count": 10
        }
      ]
    },
    {
      "cell_type": "markdown",
      "source": [
        "## **Assignment : Add -2 in each row**"
      ],
      "metadata": {
        "id": "Rp1hajer-vDK"
      }
    },
    {
      "cell_type": "code",
      "source": [
        "np.append(a,[[-2],[-2],[-2],[-2]],axis=1)"
      ],
      "metadata": {
        "colab": {
          "base_uri": "https://localhost:8080/"
        },
        "id": "mtqG40x3-3zI",
        "outputId": "d4508d33-a265-408f-8a91-64ae7b3c1730"
      },
      "execution_count": 16,
      "outputs": [
        {
          "output_type": "execute_result",
          "data": {
            "text/plain": [
              "array([[ 0.04881579,  0.81134611,  0.15325413,  0.93854141, -2.        ],\n",
              "       [ 0.9137405 ,  0.5561551 ,  0.14023319,  0.02735921, -2.        ],\n",
              "       [ 0.38657536,  0.29092395,  0.69271128,  0.11807119, -2.        ],\n",
              "       [ 0.73235014,  0.14158138,  0.89096885,  0.6969264 , -2.        ]])"
            ]
          },
          "metadata": {},
          "execution_count": 16
        }
      ]
    },
    {
      "cell_type": "code",
      "source": [
        "np.append(a,np.full((4,1),-2),axis=1)"
      ],
      "metadata": {
        "colab": {
          "base_uri": "https://localhost:8080/"
        },
        "id": "AG755Yfk_IAi",
        "outputId": "72690e82-c86b-4c69-df47-c2d376213004"
      },
      "execution_count": 18,
      "outputs": [
        {
          "output_type": "execute_result",
          "data": {
            "text/plain": [
              "array([[ 0.04881579,  0.81134611,  0.15325413,  0.93854141, -2.        ],\n",
              "       [ 0.9137405 ,  0.5561551 ,  0.14023319,  0.02735921, -2.        ],\n",
              "       [ 0.38657536,  0.29092395,  0.69271128,  0.11807119, -2.        ],\n",
              "       [ 0.73235014,  0.14158138,  0.89096885,  0.6969264 , -2.        ]])"
            ]
          },
          "metadata": {},
          "execution_count": 18
        }
      ]
    }
  ]
}